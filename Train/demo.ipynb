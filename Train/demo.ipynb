{
 "cells": [
  {
   "cell_type": "code",
   "execution_count": 1,
   "metadata": {},
   "outputs": [
    {
     "name": "stdout",
     "output_type": "stream",
     "text": [
      "n=19717, m=88648, F=500, C=3 | feat: (19717, 500), label: (19717,) | 60/600/19057=0.00/0.03/0.97\n"
     ]
    }
   ],
   "source": [
    "from data_processor import DataProcess\n",
    "# %load -r 323- Train/data_processor.py\n",
    "processor = DataProcess('pubmed', seed=0)\n",
    "processor.input(['adjtxt', 'attr_matrix', 'labels'])\n",
    "processor.calculate(['deg', 'idx_train', 'attr_matrix_norm'])\n",
    "processor.output(['deg', 'query', 'attr_matrix_norm'])\n",
    "print(processor)"
   ]
  },
  {
   "cell_type": "code",
   "execution_count": 2,
   "metadata": {},
   "outputs": [
    {
     "name": "stdout",
     "output_type": "stream",
     "text": [
      "--------------------------------------------------------------------------------\n",
      "Configs:\n",
      "\tAlgorithm Parameter: clean_graph\n",
      "\tIs Undirected: 0\n",
      "\tInput Graph File: ../data/pubmed/adj.txt\n",
      "\tOutput Folder: ../data/pubmed\n",
      "--------------------------------------------------------------------------------\n",
      "\n",
      "Reading Input Graph\n",
      "88648 Lines Read.\n",
      "88648-th Non-Self Loop Edges.\n",
      "Finish Reading.\n",
      "\n",
      "------------------------------\n",
      "Maximum ID: 19716\n",
      "Minimum ID: 0\n",
      "The number of dead end vertices: 0\n",
      "The number of Isolated Points: 0\n",
      "The maximum out degree is: 171\n",
      "Writing Binary Finished.\n",
      "--------------------------------------------------------------------------------\n",
      "--------------------------------------------------------------------------------\n",
      "Configs:\n",
      "\tAlgorithm Parameter: featreuse\n",
      "\tInput Meta File: ../data/pubmed/attribute.txt\n",
      "\tInput Graph Binary File: ../data/pubmed/graph.bin\n",
      "\tInput Query File: ../data/pubmed/query.txt\n",
      "\tFeature File: ../data/pubmed/feats_norm.npy\n",
      "\tEstimation Folder: ../save/pubmed/featreuse/0\n",
      "\tNumber of Split: 1\n",
      "\tAlpha: 0.100000000000\n",
      "\tEpsilon: 8.000000000000\n",
      "--------------------------------------------------------------------------------\n",
      "The Number of Vertices: 19717\n",
      "The Number of Edges: 88648\n",
      "Returned Value of fread: 88648\n",
      "The number of dead end vertices:0\n",
      "edges_processed:88648\n",
      "--------------------------------------------------------------------------------\n",
      "Query size: 19717\n",
      "Input shape: 19717 500\n",
      "Feature size: 19717 500\n",
      "num_of_walks:10000000\n",
      "Result size: 9858500 \n",
      "base_size:20\n",
      "Time Used on Base 0.059080\n",
      "Feature saved: ../save/pubmed/featreuse/0/score_0.1_8.npy\n",
      "avg_tht:0.0151781\n",
      "avg_res:0.996897\n",
      "re_feat_num:480\n",
      "Mem: 570 MB\n",
      "Total Time: 0.202269, Average: 0.000404538003\n",
      "--------------------------------------------------------------------------------\n"
     ]
    }
   ],
   "source": [
    "!../Precompute/run_pubmed.sh"
   ]
  },
  {
   "cell_type": "code",
   "execution_count": 4,
   "metadata": {},
   "outputs": [
    {
     "name": "stdout",
     "output_type": "stream",
     "text": [
      "--------------------\n",
      "Option saved.\n",
      "Config path: ../save/pubmed/featpush/L2_e8_0/config.json\n",
      "Option dict: {'seed': 0, 'config': 'config/pubmed.json', 'dev': 0, 'data': 'pubmed', 'path': '../data/', 'algo': 'featpush', 'epochs': 1000, 'patience': 100, 'batch': 64, 'lr': 0.005, 'weight_decay': 0.0001, 'layer': 2, 'hidden': 128, 'dropout': 0.5, 'bias': 'none', 'alpha': 0.1, 'eps': 8, 'rrz': 0.5, 'spt': 1}\n",
      "\n",
      "--------------------\n",
      "n=19717, m=88648, F_t=torch.Size([60, 500])\n",
      "n_train=torch.Size([60]), n_val=torch.Size([600]), n_test=torch.Size([19057])\n",
      "--------------------\n",
      "Epoch:0009 | train loss:1.3571, val acc:0.7800, cost:0.0132\n",
      "Epoch:0019 | train loss:0.3125, val acc:0.7267, cost:0.0206\n",
      "Epoch:0029 | train loss:0.0447, val acc:0.7750, cost:0.0279\n",
      "Epoch:0039 | train loss:0.0909, val acc:0.7450, cost:0.0353\n",
      "Epoch:0049 | train loss:0.0382, val acc:0.7633, cost:0.0426\n",
      "Epoch:0059 | train loss:0.0612, val acc:0.7600, cost:0.0499\n",
      "Epoch:0069 | train loss:0.0259, val acc:0.7550, cost:0.0573\n",
      "Epoch:0079 | train loss:0.0678, val acc:0.7517, cost:0.0647\n",
      "Epoch:0089 | train loss:0.0937, val acc:0.7583, cost:0.0720\n",
      "Epoch:0099 | train loss:0.0552, val acc:0.7600, cost:0.0793\n",
      "Epoch:0109 | train loss:0.0246, val acc:0.7617, cost:0.0866\n",
      "Epoch:0119 | train loss:0.0540, val acc:0.7583, cost:0.0940\n",
      "Train time cost: 0.1006\n",
      "Train best acc: 1.0000, Val best acc: 0.7867\n",
      "--------------------\n",
      "Test time cost: 0.3463, Memory: 5.078GB\n",
      "Best epoch: 28, Test acc: 0.7617\n",
      "--------------------\n"
     ]
    }
   ],
   "source": [
    "!python -u run.py -f 0 -c config/pubmed.json -v 0"
   ]
  },
  {
   "cell_type": "code",
   "execution_count": null,
   "metadata": {},
   "outputs": [],
   "source": []
  }
 ],
 "metadata": {
  "kernelspec": {
   "display_name": "Python 3.9.12 ('torch19-py9')",
   "language": "python",
   "name": "python3"
  },
  "language_info": {
   "codemirror_mode": {
    "name": "ipython",
    "version": 3
   },
   "file_extension": ".py",
   "mimetype": "text/x-python",
   "name": "python",
   "nbconvert_exporter": "python",
   "pygments_lexer": "ipython3",
   "version": "3.9.12"
  },
  "orig_nbformat": 4,
  "vscode": {
   "interpreter": {
    "hash": "d3845a1a74aefdaf9f167c78e35335e49a8028d27c0f04387a347581b7d851dd"
   }
  }
 },
 "nbformat": 4,
 "nbformat_minor": 2
}
