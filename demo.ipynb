{
 "cells": [
  {
   "cell_type": "markdown",
   "metadata": {},
   "source": [
    "# Data Preparation"
   ]
  },
  {
   "cell_type": "code",
   "execution_count": 1,
   "metadata": {},
   "outputs": [
    {
     "name": "stdout",
     "output_type": "stream",
     "text": [
      "n=19717, m=88648, F=500, C=3 | feat: (19717, 500), label: (19717,) | 60/600/19057=0.00/0.03/0.97\n"
     ]
    }
   ],
   "source": [
    "from data_processor import DataProcess\n",
    "# %load -r 323- Train/data_processor.py\n",
    "processor = DataProcess('pubmed', seed=0)\n",
    "processor.input(['adjtxt', 'attr_matrix', 'labels'])\n",
    "processor.calculate(['deg', 'idx_train', 'attr_matrix_norm'])\n",
    "processor.output(['deg', 'query', 'attr_matrix_norm'])\n",
    "print(processor)"
   ]
  },
  {
   "cell_type": "code",
   "execution_count": 2,
   "metadata": {},
   "outputs": [
    {
     "name": "stdout",
     "output_type": "stream",
     "text": [
      "--------------------------------------------------------------------------------\n",
      "Configs:\n",
      "\tAlgorithm Parameter: clean_graph\n",
      "\tIs Undirected: 0\n",
      "\tInput Graph File: ../data/pubmed/adj.txt\n",
      "\tOutput Folder: ../data/pubmed\n",
      "--------------------------------------------------------------------------------\n",
      "88648 Lines Read.\n",
      "88648-th Non-Self Loop Edges.\n",
      "Finish Reading.\n",
      "--------------------------------------------------------------------------------\n",
      "Maximum ID: 19716\n",
      "Minimum ID: 0\n",
      "The number of dead end vertices: 0\n",
      "The number of Isolated Points: 0\n",
      "The maximum out degree is: 171\n",
      "Writing Binary Finished.\n",
      "--------------------------------------------------------------------------------\n"
     ]
    }
   ],
   "source": [
    "%%script bash\n",
    "DATASTR=pubmed\n",
    "DATADIR=../data/${DATASTR}\n",
    "../Precompute/build/featpush -algo clean_graph -is_undirected no \\\n",
    "        -graph ${DATADIR}/adj.txt -output_folder ${DATADIR}"
   ]
  },
  {
   "cell_type": "markdown",
   "metadata": {},
   "source": [
    "# Feat-Push"
   ]
  },
  {
   "cell_type": "code",
   "execution_count": 3,
   "metadata": {},
   "outputs": [
    {
     "name": "stdout",
     "output_type": "stream",
     "text": [
      "--------------------------------------------------------------------------------\n",
      "Configs:\n",
      "\tAlgorithm Parameter: featpush\n",
      "\tInput Meta File: ../data/pubmed/attribute.txt\n",
      "\tInput Graph Binary File: ../data/pubmed/graph.bin\n",
      "\tInput Query File: ../data/pubmed/query.txt\n",
      "\tFeature File: ../data/pubmed/feats_norm.npy\n",
      "\tEstimation Folder: ../save/pubmed/featpush/0\n",
      "\tNumber of Split: 1\n",
      "\tRandom Seed: 0\n",
      "\tAlpha: 0.100000000000\n",
      "\tEpsilon: 2.000000000000\n",
      "--------------------------------------------------------------------------------\n",
      "The Number of Vertices: 19717\n",
      "The Number of Edges: 88648\n",
      "Returned Value of fread: 88648\n",
      "The number of dead end vertices:0\n",
      "edges_processed:88648\n",
      "--------------------------------------------------------------------------------\n",
      "Query size: 19717\n",
      "Input shape: 19717 500\n",
      "Feature size: 19717 500\n",
      "num_of_walks:10000000\n",
      "Result size: 9858500 \n",
      "Feature saved: ../save/pubmed/featpush/0/score_0.1_2.npy\n",
      "Mem: 569 MB\n",
      "Total Time: 1.781927, Average: 0.003563853993\n",
      "--------------------------------------------------------------------------------\n"
     ]
    }
   ],
   "source": [
    "%%script bash\n",
    "DATASTR=pubmed\n",
    "ALGOSTR=featpush\n",
    "SEED=0\n",
    "DATADIR=../data/${DATASTR}\n",
    "SAVEDIR=../save/${DATASTR}/${ALGOSTR}/${SEED}\n",
    "mkdir -p ${SAVEDIR}\n",
    "../Precompute/build/featpush -algo ${ALGOSTR} \\\n",
    "        -meta ${DATADIR}/attribute.txt -graph_binary ${DATADIR}/graph.bin \\\n",
    "        -query ${DATADIR}/query.txt -feature_file ${DATADIR}/feats_norm.npy \\\n",
    "        -estimation_folder ${SAVEDIR} -split_num 1 -seed ${SEED} \\\n",
    "        -alpha 0.1 -epsilon 2"
   ]
  },
  {
   "cell_type": "markdown",
   "metadata": {},
   "source": [
    "# Feat-Reuse"
   ]
  },
  {
   "cell_type": "code",
   "execution_count": 4,
   "metadata": {},
   "outputs": [
    {
     "name": "stdout",
     "output_type": "stream",
     "text": [
      "--------------------------------------------------------------------------------\n",
      "Configs:\n",
      "\tAlgorithm Parameter: featreuse\n",
      "\tInput Meta File: ../data/pubmed/attribute.txt\n",
      "\tInput Graph Binary File: ../data/pubmed/graph.bin\n",
      "\tInput Query File: ../data/pubmed/query.txt\n",
      "\tFeature File: ../data/pubmed/feats_norm.npy\n",
      "\tEstimation Folder: ../save/pubmed/featreuse/0\n",
      "\tNumber of Split: 1\n",
      "\tRandom Seed: 0\n",
      "\tAlpha: 0.100000000000\n",
      "\tEpsilon: 2.000000000000\n",
      "--------------------------------------------------------------------------------\n",
      "The Number of Vertices: 19717\n",
      "The Number of Edges: 88648\n",
      "Returned Value of fread: 88648\n",
      "The number of dead end vertices:0\n",
      "edges_processed:88648\n",
      "--------------------------------------------------------------------------------\n",
      "Query size: 19717\n",
      "Input shape: 19717 500\n",
      "Feature size: 19717 500\n",
      "num_of_walks:10000000\n",
      "Result size: 9858500 \n",
      "base_size:20\n",
      "Time Used on Base 0.138076\n",
      "Feature saved: ../save/pubmed/featreuse/0/score_0.1_2.npy\n",
      "avg_tht:0.0141102\n",
      "avg_res:0.995987\n",
      "re_feat_num:490\n",
      "Mem: 570 MB\n",
      "Total Time: 1.096374, Average: 0.002192748003\n",
      "--------------------------------------------------------------------------------\n"
     ]
    }
   ],
   "source": [
    "%%script bash\n",
    "DATASTR=pubmed\n",
    "ALGOSTR=featreuse\n",
    "SEED=0\n",
    "DATADIR=../data/${DATASTR}\n",
    "SAVEDIR=../save/${DATASTR}/${ALGOSTR}/${SEED}\n",
    "mkdir -p ${SAVEDIR}\n",
    "../Precompute/build/featpush -algo ${ALGOSTR} \\\n",
    "        -meta ${DATADIR}/attribute.txt -graph_binary ${DATADIR}/graph.bin \\\n",
    "        -query ${DATADIR}/query.txt -feature_file ${DATADIR}/feats_norm.npy \\\n",
    "        -estimation_folder ${SAVEDIR} -split_num 1 -seed ${SEED} \\\n",
    "        -alpha 0.1 -epsilon 2"
   ]
  },
  {
   "cell_type": "markdown",
   "metadata": {},
   "source": [
    "# Train"
   ]
  },
  {
   "cell_type": "code",
   "execution_count": 5,
   "metadata": {},
   "outputs": [
    {
     "name": "stdout",
     "output_type": "stream",
     "text": [
      "--------------------\n",
      "Option saved.\n",
      "Config path: ../save/pubmed/featreuse/0/config.json\n",
      "Option dict: {'seed': 0, 'config': 'config/pubmed.json', 'dev': 0, 'data': 'pubmed', 'path': '../data/', 'algo': 'featreuse', 'epochs': 1000, 'patience': 100, 'batch': 64, 'lr': 0.005, 'weight_decay': 0.0001, 'layer': 2, 'hidden': 128, 'dropout': 0.5, 'bias': 'none', 'alpha': 0.1, 'eps': 2, 'rrz': 0.5, 'spt': 1}\n",
      "\n",
      "--------------------\n",
      "n=19717, m=88648, F_t=torch.Size([60, 500])\n",
      "n_train=torch.Size([60]), n_val=torch.Size([600]), n_test=torch.Size([19057])\n",
      "--------------------\n",
      "Epoch:0009 | train loss:0.3550, val acc:0.7867, cost:0.0168\n",
      "Epoch:0019 | train loss:0.1621, val acc:0.7783, cost:0.0286\n",
      "Epoch:0029 | train loss:0.0634, val acc:0.7783, cost:0.0403\n",
      "Epoch:0039 | train loss:0.1016, val acc:0.7850, cost:0.0520\n",
      "Epoch:0049 | train loss:0.0944, val acc:0.7733, cost:0.0638\n",
      "Epoch:0059 | train loss:0.0149, val acc:0.7850, cost:0.0755\n",
      "Epoch:0069 | train loss:0.0194, val acc:0.7933, cost:0.0873\n",
      "Epoch:0079 | train loss:0.0054, val acc:0.7950, cost:0.0993\n",
      "Epoch:0089 | train loss:0.0860, val acc:0.7900, cost:0.1111\n",
      "Epoch:0099 | train loss:0.0131, val acc:0.7983, cost:0.1229\n",
      "Epoch:0109 | train loss:0.0105, val acc:0.7967, cost:0.1347\n",
      "Epoch:0119 | train loss:0.0113, val acc:0.7950, cost:0.1464\n",
      "Epoch:0129 | train loss:0.0443, val acc:0.7967, cost:0.1587\n",
      "Epoch:0139 | train loss:0.1653, val acc:0.7983, cost:0.1704\n",
      "Epoch:0149 | train loss:0.0840, val acc:0.7967, cost:0.1824\n",
      "Epoch:0159 | train loss:0.0399, val acc:0.7967, cost:0.1942\n",
      "Epoch:0169 | train loss:0.0082, val acc:0.7950, cost:0.2061\n",
      "Train time cost: 0.2145\n",
      "Train best acc: 1.0000, Val best acc: 0.7983\n",
      "--------------------\n",
      "Test time cost: 0.3500, Memory: 5.080GB\n",
      "Best epoch: 76, Test acc: 0.7782\n",
      "--------------------\n"
     ]
    }
   ],
   "source": [
    "!python -u run.py -f 0 -c config/pubmed.json -v 0"
   ]
  },
  {
   "cell_type": "code",
   "execution_count": null,
   "metadata": {},
   "outputs": [],
   "source": []
  }
 ],
 "metadata": {
  "kernelspec": {
   "display_name": "Python 3.9.12 ('torch19-py9')",
   "language": "python",
   "name": "python3"
  },
  "language_info": {
   "codemirror_mode": {
    "name": "ipython",
    "version": 3
   },
   "file_extension": ".py",
   "mimetype": "text/x-python",
   "name": "python",
   "nbconvert_exporter": "python",
   "pygments_lexer": "ipython3",
   "version": "3.9.12"
  },
  "orig_nbformat": 4,
  "vscode": {
   "interpreter": {
    "hash": "d3845a1a74aefdaf9f167c78e35335e49a8028d27c0f04387a347581b7d851dd"
   }
  }
 },
 "nbformat": 4,
 "nbformat_minor": 2
}
